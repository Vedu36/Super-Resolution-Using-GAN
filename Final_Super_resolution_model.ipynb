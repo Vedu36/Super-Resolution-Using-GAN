{
 "cells": [
  {
   "cell_type": "code",
   "execution_count": 1,
   "id": "65597807",
   "metadata": {},
   "outputs": [],
   "source": [
    "import tensorflow as tf\n",
    "# Avoid OOM errors by setting GPU Memory Consumption Growth\n",
    "gpus = tf.config.experimental.list_physical_devices('GPU')\n",
    "for gpu in gpus: \n",
    "    tf.config.experimental.set_memory_growth(gpu, True)\n"
   ]
  },
  {
   "cell_type": "code",
   "execution_count": 2,
   "id": "22c825a8",
   "metadata": {},
   "outputs": [],
   "source": [
    "import os\n",
    "import cv2\n",
    "import numpy as np\n",
    "import matplotlib.pyplot as plt\n",
    "from keras.models import Sequential\n",
    "from keras import layers, Model\n",
    "from sklearn.model_selection import train_test_split\n",
    "\n",
    "import numpy as np\n",
    "from keras import Model\n",
    "from keras.layers import Conv2D, PReLU,BatchNormalization, Flatten\n",
    "from keras.layers import UpSampling2D, LeakyReLU, Dense, Input, add\n",
    "from tqdm import tqdm"
   ]
  },
  {
   "cell_type": "markdown",
   "id": "0da1ea9c",
   "metadata": {},
   "source": [
    "blocks to build the generator"
   ]
  },
  {
   "cell_type": "code",
   "execution_count": 3,
   "id": "beeb7655",
   "metadata": {},
   "outputs": [],
   "source": [
    "def res_block(ip):\n",
    "    \n",
    "    res_model = Conv2D(64, (3,3), padding = \"same\")(ip)\n",
    "    res_model = BatchNormalization(momentum = 0.5)(res_model)\n",
    "    res_model = PReLU(shared_axes = [1,2])(res_model)\n",
    "    \n",
    "    res_model = Conv2D(64, (3,3), padding = \"same\")(res_model)\n",
    "    res_model = BatchNormalization(momentum = 0.5)(res_model)\n",
    "    \n",
    "    return add([ip,res_model])\n"
   ]
  },
  {
   "cell_type": "code",
   "execution_count": 4,
   "id": "ab021a58",
   "metadata": {},
   "outputs": [],
   "source": [
    "def upscale_block(ip):\n",
    "    \n",
    "    up_model = Conv2D(256, (3,3), padding=\"same\")(ip)\n",
    "    up_model = UpSampling2D( size = 2 )(up_model)\n",
    "    up_model = PReLU(shared_axes=[1,2])(up_model)\n",
    "    \n",
    "    return up_model"
   ]
  },
  {
   "cell_type": "markdown",
   "id": "d7565f4f",
   "metadata": {},
   "source": [
    "Generator model"
   ]
  },
  {
   "cell_type": "code",
   "execution_count": 5,
   "id": "dfafa9fe",
   "metadata": {},
   "outputs": [],
   "source": [
    "def create_gen(gen_ip, num_res_block):\n",
    "    layers = Conv2D(64, (9,9), padding=\"same\")(gen_ip)\n",
    "    layers = PReLU(shared_axes=[1,2])(layers)\n",
    "\n",
    "    temp = layers\n",
    "\n",
    "    for i in range(num_res_block):\n",
    "        layers = res_block(layers)\n",
    "\n",
    "    layers = Conv2D(64, (3,3), padding=\"same\")(layers)\n",
    "    layers = BatchNormalization(momentum=0.5)(layers)\n",
    "    layers = add([layers,temp])\n",
    "\n",
    "    layers = upscale_block(layers)\n",
    "    layers = upscale_block(layers)\n",
    "\n",
    "    op = Conv2D(3, (9,9), padding=\"same\")(layers)\n",
    "\n",
    "    return Model(inputs=gen_ip, outputs=op)\n"
   ]
  },
  {
   "cell_type": "markdown",
   "id": "fcbd5bba",
   "metadata": {},
   "source": [
    "Descriminator block that will be used to construct the discriminator"
   ]
  },
  {
   "cell_type": "code",
   "execution_count": 6,
   "id": "f27eb723",
   "metadata": {},
   "outputs": [],
   "source": [
    "def discriminator_block(ip, filters, strides=1, bn=True):\n",
    "    \n",
    "    disc_model = Conv2D(filters, (3,3), strides = strides, padding=\"same\")(ip)\n",
    "    \n",
    "    if bn:\n",
    "        disc_model = BatchNormalization( momentum=0.8 )(disc_model)\n",
    "    \n",
    "    disc_model = LeakyReLU( alpha=0.2 )(disc_model)\n",
    "    \n",
    "    return disc_model\n"
   ]
  },
  {
   "cell_type": "markdown",
   "id": "42bae04c",
   "metadata": {},
   "source": [
    "Descriminartor"
   ]
  },
  {
   "cell_type": "code",
   "execution_count": 7,
   "id": "445c0717",
   "metadata": {},
   "outputs": [],
   "source": [
    "def create_disc(disc_ip):\n",
    "\n",
    "    df = 64\n",
    "    \n",
    "    d1 = discriminator_block(disc_ip, df, bn=False)\n",
    "    d2 = discriminator_block(d1, df, strides=2)\n",
    "    d3 = discriminator_block(d2, df*2)\n",
    "    d4 = discriminator_block(d3, df*2, strides=2)\n",
    "    d5 = discriminator_block(d4, df*4)\n",
    "    d6 = discriminator_block(d5, df*4, strides=2)\n",
    "    d7 = discriminator_block(d6, df*8)\n",
    "    d8 = discriminator_block(d7, df*8, strides=2)\n",
    "    \n",
    "    d8_5 = Flatten()(d8)\n",
    "    d9 = Dense(df*16)(d8_5)\n",
    "    d10 = LeakyReLU(alpha=0.2)(d9)\n",
    "    validity = Dense(1, activation='sigmoid')(d10)\n",
    "\n",
    "    return Model(disc_ip, validity)"
   ]
  },
  {
   "cell_type": "markdown",
   "id": "c586c04e",
   "metadata": {},
   "source": [
    "VGG19 "
   ]
  },
  {
   "cell_type": "code",
   "execution_count": 8,
   "id": "2f695ed2",
   "metadata": {},
   "outputs": [],
   "source": [
    "from tensorflow.keras.applications.vgg19 import VGG19\n",
    "\n",
    "def build_vgg(hr_shape):\n",
    "    \n",
    "    vgg = VGG19(weights=\"imagenet\",include_top=False, input_shape=hr_shape)\n",
    "    \n",
    "    return Model(inputs=vgg.inputs, outputs=vgg.layers[10].output)"
   ]
  },
  {
   "cell_type": "markdown",
   "id": "ae0833ed",
   "metadata": {},
   "source": [
    "Combined model\n"
   ]
  },
  {
   "cell_type": "code",
   "execution_count": 9,
   "id": "9858a13d",
   "metadata": {},
   "outputs": [],
   "source": [
    "def create_comb(gen_model, disc_model, vgg, lr_ip, hr_ip):\n",
    "    gen_img = gen_model(lr_ip)\n",
    "    \n",
    "    gen_features = vgg(gen_img)\n",
    "    \n",
    "    disc_model.trainable = False\n",
    "    validity = disc_model(gen_img)\n",
    "    \n",
    "    return Model(inputs=[lr_ip, hr_ip], outputs=[validity, gen_features])"
   ]
  },
  {
   "cell_type": "code",
   "execution_count": 10,
   "id": "5af104e5",
   "metadata": {},
   "outputs": [],
   "source": [
    "n=5000\n",
    "lr_list = os.listdir(\"lr_images\")[:n]\n",
    "\n",
    "lr_images = []\n",
    "for img in lr_list:\n",
    "    img_lr = cv2.imread(\"lr_images/\" + img)\n",
    "    img_lr = cv2.cvtColor(img_lr, cv2.COLOR_BGR2RGB)\n",
    "    lr_images.append(img_lr)   \n",
    "\n",
    "\n",
    "hr_list = os.listdir(\"hr_images\")[:n]\n",
    "   \n",
    "hr_images = []\n",
    "for img in hr_list:\n",
    "    img_hr = cv2.imread(\"hr_images/\" + img)\n",
    "    img_hr = cv2.cvtColor(img_hr, cv2.COLOR_BGR2RGB)\n",
    "    hr_images.append(img_hr)   \n",
    "\n",
    "lr_images = np.array(lr_images)\n",
    "hr_images = np.array(hr_images)"
   ]
  },
  {
   "cell_type": "markdown",
   "id": "3bb44982",
   "metadata": {},
   "source": [
    "Sanity check, view few mages"
   ]
  },
  {
   "cell_type": "code",
   "execution_count": 11,
   "id": "65e5ca5d",
   "metadata": {},
   "outputs": [
    {
     "data": {
      "image/png": "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\n",
      "text/plain": [
       "<Figure size 1200x600 with 2 Axes>"
      ]
     },
     "metadata": {},
     "output_type": "display_data"
    }
   ],
   "source": [
    "import random\n",
    "import numpy as np\n",
    "image_number = random.randint(0, len(lr_images)-1)\n",
    "plt.figure(figsize=(12, 6))\n",
    "plt.subplot(121)\n",
    "plt.imshow(np.reshape(lr_images[image_number], (32, 32, 3)))\n",
    "plt.subplot(122)\n",
    "plt.imshow(np.reshape(hr_images[image_number], (128, 128, 3)))\n",
    "plt.show()"
   ]
  },
  {
   "cell_type": "code",
   "execution_count": 12,
   "id": "ca8757bd",
   "metadata": {},
   "outputs": [
    {
     "data": {
      "image/png": "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\n",
      "text/plain": [
       "<Figure size 1200x600 with 2 Axes>"
      ]
     },
     "metadata": {},
     "output_type": "display_data"
    }
   ],
   "source": [
    "import random\n",
    "import numpy as np\n",
    "image_number = random.randint(0, len(lr_images)-1)\n",
    "plt.figure(figsize=(12, 6))\n",
    "plt.subplot(121)\n",
    "plt.imshow(np.reshape(lr_images[image_number], (32, 32, 3)))\n",
    "plt.subplot(122)\n",
    "plt.imshow(np.reshape(hr_images[image_number], (128, 128, 3)))\n",
    "plt.show()"
   ]
  },
  {
   "cell_type": "markdown",
   "id": "4fdca7c6",
   "metadata": {},
   "source": [
    "Scale values"
   ]
  },
  {
   "cell_type": "code",
   "execution_count": 13,
   "id": "c0403868",
   "metadata": {},
   "outputs": [
    {
     "name": "stdout",
     "output_type": "stream",
     "text": [
      "Model: \"model\"\n",
      "__________________________________________________________________________________________________\n",
      "Layer (type)                    Output Shape         Param #     Connected to                     \n",
      "==================================================================================================\n",
      "input_1 (InputLayer)            [(None, 32, 32, 3)]  0                                            \n",
      "__________________________________________________________________________________________________\n",
      "conv2d (Conv2D)                 (None, 32, 32, 64)   15616       input_1[0][0]                    \n",
      "__________________________________________________________________________________________________\n",
      "p_re_lu (PReLU)                 (None, 32, 32, 64)   64          conv2d[0][0]                     \n",
      "__________________________________________________________________________________________________\n",
      "conv2d_1 (Conv2D)               (None, 32, 32, 64)   36928       p_re_lu[0][0]                    \n",
      "__________________________________________________________________________________________________\n",
      "batch_normalization (BatchNorma (None, 32, 32, 64)   256         conv2d_1[0][0]                   \n",
      "__________________________________________________________________________________________________\n",
      "p_re_lu_1 (PReLU)               (None, 32, 32, 64)   64          batch_normalization[0][0]        \n",
      "__________________________________________________________________________________________________\n",
      "conv2d_2 (Conv2D)               (None, 32, 32, 64)   36928       p_re_lu_1[0][0]                  \n",
      "__________________________________________________________________________________________________\n",
      "batch_normalization_1 (BatchNor (None, 32, 32, 64)   256         conv2d_2[0][0]                   \n",
      "__________________________________________________________________________________________________\n",
      "add (Add)                       (None, 32, 32, 64)   0           p_re_lu[0][0]                    \n",
      "                                                                 batch_normalization_1[0][0]      \n",
      "__________________________________________________________________________________________________\n",
      "conv2d_3 (Conv2D)               (None, 32, 32, 64)   36928       add[0][0]                        \n",
      "__________________________________________________________________________________________________\n",
      "batch_normalization_2 (BatchNor (None, 32, 32, 64)   256         conv2d_3[0][0]                   \n",
      "__________________________________________________________________________________________________\n",
      "p_re_lu_2 (PReLU)               (None, 32, 32, 64)   64          batch_normalization_2[0][0]      \n",
      "__________________________________________________________________________________________________\n",
      "conv2d_4 (Conv2D)               (None, 32, 32, 64)   36928       p_re_lu_2[0][0]                  \n",
      "__________________________________________________________________________________________________\n",
      "batch_normalization_3 (BatchNor (None, 32, 32, 64)   256         conv2d_4[0][0]                   \n",
      "__________________________________________________________________________________________________\n",
      "add_1 (Add)                     (None, 32, 32, 64)   0           add[0][0]                        \n",
      "                                                                 batch_normalization_3[0][0]      \n",
      "__________________________________________________________________________________________________\n",
      "conv2d_5 (Conv2D)               (None, 32, 32, 64)   36928       add_1[0][0]                      \n",
      "__________________________________________________________________________________________________\n",
      "batch_normalization_4 (BatchNor (None, 32, 32, 64)   256         conv2d_5[0][0]                   \n",
      "__________________________________________________________________________________________________\n",
      "p_re_lu_3 (PReLU)               (None, 32, 32, 64)   64          batch_normalization_4[0][0]      \n",
      "__________________________________________________________________________________________________\n",
      "conv2d_6 (Conv2D)               (None, 32, 32, 64)   36928       p_re_lu_3[0][0]                  \n",
      "__________________________________________________________________________________________________\n",
      "batch_normalization_5 (BatchNor (None, 32, 32, 64)   256         conv2d_6[0][0]                   \n",
      "__________________________________________________________________________________________________\n",
      "add_2 (Add)                     (None, 32, 32, 64)   0           add_1[0][0]                      \n",
      "                                                                 batch_normalization_5[0][0]      \n",
      "__________________________________________________________________________________________________\n",
      "conv2d_7 (Conv2D)               (None, 32, 32, 64)   36928       add_2[0][0]                      \n",
      "__________________________________________________________________________________________________\n",
      "batch_normalization_6 (BatchNor (None, 32, 32, 64)   256         conv2d_7[0][0]                   \n",
      "__________________________________________________________________________________________________\n",
      "p_re_lu_4 (PReLU)               (None, 32, 32, 64)   64          batch_normalization_6[0][0]      \n",
      "__________________________________________________________________________________________________\n",
      "conv2d_8 (Conv2D)               (None, 32, 32, 64)   36928       p_re_lu_4[0][0]                  \n",
      "__________________________________________________________________________________________________\n",
      "batch_normalization_7 (BatchNor (None, 32, 32, 64)   256         conv2d_8[0][0]                   \n",
      "__________________________________________________________________________________________________\n",
      "add_3 (Add)                     (None, 32, 32, 64)   0           add_2[0][0]                      \n",
      "                                                                 batch_normalization_7[0][0]      \n",
      "__________________________________________________________________________________________________\n",
      "conv2d_9 (Conv2D)               (None, 32, 32, 64)   36928       add_3[0][0]                      \n",
      "__________________________________________________________________________________________________\n",
      "batch_normalization_8 (BatchNor (None, 32, 32, 64)   256         conv2d_9[0][0]                   \n",
      "__________________________________________________________________________________________________\n",
      "p_re_lu_5 (PReLU)               (None, 32, 32, 64)   64          batch_normalization_8[0][0]      \n",
      "__________________________________________________________________________________________________\n",
      "conv2d_10 (Conv2D)              (None, 32, 32, 64)   36928       p_re_lu_5[0][0]                  \n",
      "__________________________________________________________________________________________________\n",
      "batch_normalization_9 (BatchNor (None, 32, 32, 64)   256         conv2d_10[0][0]                  \n",
      "__________________________________________________________________________________________________\n",
      "add_4 (Add)                     (None, 32, 32, 64)   0           add_3[0][0]                      \n",
      "                                                                 batch_normalization_9[0][0]      \n",
      "__________________________________________________________________________________________________\n",
      "conv2d_11 (Conv2D)              (None, 32, 32, 64)   36928       add_4[0][0]                      \n",
      "__________________________________________________________________________________________________\n",
      "batch_normalization_10 (BatchNo (None, 32, 32, 64)   256         conv2d_11[0][0]                  \n",
      "__________________________________________________________________________________________________\n",
      "p_re_lu_6 (PReLU)               (None, 32, 32, 64)   64          batch_normalization_10[0][0]     \n",
      "__________________________________________________________________________________________________\n",
      "conv2d_12 (Conv2D)              (None, 32, 32, 64)   36928       p_re_lu_6[0][0]                  \n",
      "__________________________________________________________________________________________________\n",
      "batch_normalization_11 (BatchNo (None, 32, 32, 64)   256         conv2d_12[0][0]                  \n",
      "__________________________________________________________________________________________________\n",
      "add_5 (Add)                     (None, 32, 32, 64)   0           add_4[0][0]                      \n",
      "                                                                 batch_normalization_11[0][0]     \n",
      "__________________________________________________________________________________________________\n",
      "conv2d_13 (Conv2D)              (None, 32, 32, 64)   36928       add_5[0][0]                      \n",
      "__________________________________________________________________________________________________\n",
      "batch_normalization_12 (BatchNo (None, 32, 32, 64)   256         conv2d_13[0][0]                  \n",
      "__________________________________________________________________________________________________\n",
      "p_re_lu_7 (PReLU)               (None, 32, 32, 64)   64          batch_normalization_12[0][0]     \n",
      "__________________________________________________________________________________________________\n",
      "conv2d_14 (Conv2D)              (None, 32, 32, 64)   36928       p_re_lu_7[0][0]                  \n",
      "__________________________________________________________________________________________________\n",
      "batch_normalization_13 (BatchNo (None, 32, 32, 64)   256         conv2d_14[0][0]                  \n",
      "__________________________________________________________________________________________________\n",
      "add_6 (Add)                     (None, 32, 32, 64)   0           add_5[0][0]                      \n",
      "                                                                 batch_normalization_13[0][0]     \n",
      "__________________________________________________________________________________________________\n",
      "conv2d_15 (Conv2D)              (None, 32, 32, 64)   36928       add_6[0][0]                      \n",
      "__________________________________________________________________________________________________\n",
      "batch_normalization_14 (BatchNo (None, 32, 32, 64)   256         conv2d_15[0][0]                  \n",
      "__________________________________________________________________________________________________\n",
      "p_re_lu_8 (PReLU)               (None, 32, 32, 64)   64          batch_normalization_14[0][0]     \n",
      "__________________________________________________________________________________________________\n",
      "conv2d_16 (Conv2D)              (None, 32, 32, 64)   36928       p_re_lu_8[0][0]                  \n",
      "__________________________________________________________________________________________________\n",
      "batch_normalization_15 (BatchNo (None, 32, 32, 64)   256         conv2d_16[0][0]                  \n",
      "__________________________________________________________________________________________________\n",
      "add_7 (Add)                     (None, 32, 32, 64)   0           add_6[0][0]                      \n",
      "                                                                 batch_normalization_15[0][0]     \n",
      "__________________________________________________________________________________________________\n",
      "conv2d_17 (Conv2D)              (None, 32, 32, 64)   36928       add_7[0][0]                      \n",
      "__________________________________________________________________________________________________\n",
      "batch_normalization_16 (BatchNo (None, 32, 32, 64)   256         conv2d_17[0][0]                  \n",
      "__________________________________________________________________________________________________\n",
      "p_re_lu_9 (PReLU)               (None, 32, 32, 64)   64          batch_normalization_16[0][0]     \n",
      "__________________________________________________________________________________________________\n",
      "conv2d_18 (Conv2D)              (None, 32, 32, 64)   36928       p_re_lu_9[0][0]                  \n",
      "__________________________________________________________________________________________________\n",
      "batch_normalization_17 (BatchNo (None, 32, 32, 64)   256         conv2d_18[0][0]                  \n",
      "__________________________________________________________________________________________________\n",
      "add_8 (Add)                     (None, 32, 32, 64)   0           add_7[0][0]                      \n",
      "                                                                 batch_normalization_17[0][0]     \n",
      "__________________________________________________________________________________________________\n",
      "conv2d_19 (Conv2D)              (None, 32, 32, 64)   36928       add_8[0][0]                      \n",
      "__________________________________________________________________________________________________\n",
      "batch_normalization_18 (BatchNo (None, 32, 32, 64)   256         conv2d_19[0][0]                  \n",
      "__________________________________________________________________________________________________\n",
      "p_re_lu_10 (PReLU)              (None, 32, 32, 64)   64          batch_normalization_18[0][0]     \n",
      "__________________________________________________________________________________________________\n",
      "conv2d_20 (Conv2D)              (None, 32, 32, 64)   36928       p_re_lu_10[0][0]                 \n",
      "__________________________________________________________________________________________________\n",
      "batch_normalization_19 (BatchNo (None, 32, 32, 64)   256         conv2d_20[0][0]                  \n",
      "__________________________________________________________________________________________________\n",
      "add_9 (Add)                     (None, 32, 32, 64)   0           add_8[0][0]                      \n",
      "                                                                 batch_normalization_19[0][0]     \n",
      "__________________________________________________________________________________________________\n",
      "conv2d_21 (Conv2D)              (None, 32, 32, 64)   36928       add_9[0][0]                      \n",
      "__________________________________________________________________________________________________\n",
      "batch_normalization_20 (BatchNo (None, 32, 32, 64)   256         conv2d_21[0][0]                  \n",
      "__________________________________________________________________________________________________\n",
      "p_re_lu_11 (PReLU)              (None, 32, 32, 64)   64          batch_normalization_20[0][0]     \n",
      "__________________________________________________________________________________________________\n",
      "conv2d_22 (Conv2D)              (None, 32, 32, 64)   36928       p_re_lu_11[0][0]                 \n",
      "__________________________________________________________________________________________________\n",
      "batch_normalization_21 (BatchNo (None, 32, 32, 64)   256         conv2d_22[0][0]                  \n",
      "__________________________________________________________________________________________________\n",
      "add_10 (Add)                    (None, 32, 32, 64)   0           add_9[0][0]                      \n",
      "                                                                 batch_normalization_21[0][0]     \n",
      "__________________________________________________________________________________________________\n",
      "conv2d_23 (Conv2D)              (None, 32, 32, 64)   36928       add_10[0][0]                     \n",
      "__________________________________________________________________________________________________\n",
      "batch_normalization_22 (BatchNo (None, 32, 32, 64)   256         conv2d_23[0][0]                  \n",
      "__________________________________________________________________________________________________\n",
      "p_re_lu_12 (PReLU)              (None, 32, 32, 64)   64          batch_normalization_22[0][0]     \n",
      "__________________________________________________________________________________________________\n",
      "conv2d_24 (Conv2D)              (None, 32, 32, 64)   36928       p_re_lu_12[0][0]                 \n",
      "__________________________________________________________________________________________________\n",
      "batch_normalization_23 (BatchNo (None, 32, 32, 64)   256         conv2d_24[0][0]                  \n",
      "__________________________________________________________________________________________________\n",
      "add_11 (Add)                    (None, 32, 32, 64)   0           add_10[0][0]                     \n",
      "                                                                 batch_normalization_23[0][0]     \n",
      "__________________________________________________________________________________________________\n",
      "conv2d_25 (Conv2D)              (None, 32, 32, 64)   36928       add_11[0][0]                     \n",
      "__________________________________________________________________________________________________\n",
      "batch_normalization_24 (BatchNo (None, 32, 32, 64)   256         conv2d_25[0][0]                  \n",
      "__________________________________________________________________________________________________\n",
      "p_re_lu_13 (PReLU)              (None, 32, 32, 64)   64          batch_normalization_24[0][0]     \n",
      "__________________________________________________________________________________________________\n",
      "conv2d_26 (Conv2D)              (None, 32, 32, 64)   36928       p_re_lu_13[0][0]                 \n",
      "__________________________________________________________________________________________________\n",
      "batch_normalization_25 (BatchNo (None, 32, 32, 64)   256         conv2d_26[0][0]                  \n",
      "__________________________________________________________________________________________________\n",
      "add_12 (Add)                    (None, 32, 32, 64)   0           add_11[0][0]                     \n",
      "                                                                 batch_normalization_25[0][0]     \n",
      "__________________________________________________________________________________________________\n",
      "conv2d_27 (Conv2D)              (None, 32, 32, 64)   36928       add_12[0][0]                     \n",
      "__________________________________________________________________________________________________\n",
      "batch_normalization_26 (BatchNo (None, 32, 32, 64)   256         conv2d_27[0][0]                  \n",
      "__________________________________________________________________________________________________\n",
      "p_re_lu_14 (PReLU)              (None, 32, 32, 64)   64          batch_normalization_26[0][0]     \n",
      "__________________________________________________________________________________________________\n",
      "conv2d_28 (Conv2D)              (None, 32, 32, 64)   36928       p_re_lu_14[0][0]                 \n",
      "__________________________________________________________________________________________________\n",
      "batch_normalization_27 (BatchNo (None, 32, 32, 64)   256         conv2d_28[0][0]                  \n",
      "__________________________________________________________________________________________________\n",
      "add_13 (Add)                    (None, 32, 32, 64)   0           add_12[0][0]                     \n",
      "                                                                 batch_normalization_27[0][0]     \n",
      "__________________________________________________________________________________________________\n",
      "conv2d_29 (Conv2D)              (None, 32, 32, 64)   36928       add_13[0][0]                     \n",
      "__________________________________________________________________________________________________\n",
      "batch_normalization_28 (BatchNo (None, 32, 32, 64)   256         conv2d_29[0][0]                  \n",
      "__________________________________________________________________________________________________\n",
      "p_re_lu_15 (PReLU)              (None, 32, 32, 64)   64          batch_normalization_28[0][0]     \n",
      "__________________________________________________________________________________________________\n",
      "conv2d_30 (Conv2D)              (None, 32, 32, 64)   36928       p_re_lu_15[0][0]                 \n",
      "__________________________________________________________________________________________________\n",
      "batch_normalization_29 (BatchNo (None, 32, 32, 64)   256         conv2d_30[0][0]                  \n",
      "__________________________________________________________________________________________________\n",
      "add_14 (Add)                    (None, 32, 32, 64)   0           add_13[0][0]                     \n",
      "                                                                 batch_normalization_29[0][0]     \n",
      "__________________________________________________________________________________________________\n",
      "conv2d_31 (Conv2D)              (None, 32, 32, 64)   36928       add_14[0][0]                     \n",
      "__________________________________________________________________________________________________\n",
      "batch_normalization_30 (BatchNo (None, 32, 32, 64)   256         conv2d_31[0][0]                  \n",
      "__________________________________________________________________________________________________\n",
      "p_re_lu_16 (PReLU)              (None, 32, 32, 64)   64          batch_normalization_30[0][0]     \n",
      "__________________________________________________________________________________________________\n",
      "conv2d_32 (Conv2D)              (None, 32, 32, 64)   36928       p_re_lu_16[0][0]                 \n",
      "__________________________________________________________________________________________________\n",
      "batch_normalization_31 (BatchNo (None, 32, 32, 64)   256         conv2d_32[0][0]                  \n",
      "__________________________________________________________________________________________________\n",
      "add_15 (Add)                    (None, 32, 32, 64)   0           add_14[0][0]                     \n",
      "                                                                 batch_normalization_31[0][0]     \n",
      "__________________________________________________________________________________________________\n",
      "conv2d_33 (Conv2D)              (None, 32, 32, 64)   36928       add_15[0][0]                     \n",
      "__________________________________________________________________________________________________\n",
      "batch_normalization_32 (BatchNo (None, 32, 32, 64)   256         conv2d_33[0][0]                  \n",
      "__________________________________________________________________________________________________\n",
      "add_16 (Add)                    (None, 32, 32, 64)   0           batch_normalization_32[0][0]     \n",
      "                                                                 p_re_lu[0][0]                    \n",
      "__________________________________________________________________________________________________\n",
      "conv2d_34 (Conv2D)              (None, 32, 32, 256)  147712      add_16[0][0]                     \n",
      "__________________________________________________________________________________________________\n",
      "up_sampling2d (UpSampling2D)    (None, 64, 64, 256)  0           conv2d_34[0][0]                  \n",
      "__________________________________________________________________________________________________\n",
      "p_re_lu_17 (PReLU)              (None, 64, 64, 256)  256         up_sampling2d[0][0]              \n",
      "__________________________________________________________________________________________________\n",
      "conv2d_35 (Conv2D)              (None, 64, 64, 256)  590080      p_re_lu_17[0][0]                 \n",
      "__________________________________________________________________________________________________\n",
      "up_sampling2d_1 (UpSampling2D)  (None, 128, 128, 256 0           conv2d_35[0][0]                  \n",
      "__________________________________________________________________________________________________\n",
      "p_re_lu_18 (PReLU)              (None, 128, 128, 256 256         up_sampling2d_1[0][0]            \n",
      "__________________________________________________________________________________________________\n",
      "conv2d_36 (Conv2D)              (None, 128, 128, 3)  62211       p_re_lu_18[0][0]                 \n",
      "==================================================================================================\n",
      "Total params: 2,044,291\n",
      "Trainable params: 2,040,067\n",
      "Non-trainable params: 4,224\n",
      "__________________________________________________________________________________________________\n"
     ]
    },
    {
     "name": "stdout",
     "output_type": "stream",
     "text": [
      "Model: \"model_1\"\n",
      "_________________________________________________________________\n",
      "Layer (type)                 Output Shape              Param #   \n",
      "=================================================================\n",
      "input_2 (InputLayer)         [(None, 128, 128, 3)]     0         \n",
      "_________________________________________________________________\n",
      "conv2d_37 (Conv2D)           (None, 128, 128, 64)      1792      \n",
      "_________________________________________________________________\n",
      "leaky_re_lu (LeakyReLU)      (None, 128, 128, 64)      0         \n",
      "_________________________________________________________________\n",
      "conv2d_38 (Conv2D)           (None, 64, 64, 64)        36928     \n",
      "_________________________________________________________________\n",
      "batch_normalization_33 (Batc (None, 64, 64, 64)        256       \n",
      "_________________________________________________________________\n",
      "leaky_re_lu_1 (LeakyReLU)    (None, 64, 64, 64)        0         \n",
      "_________________________________________________________________\n",
      "conv2d_39 (Conv2D)           (None, 64, 64, 128)       73856     \n",
      "_________________________________________________________________\n",
      "batch_normalization_34 (Batc (None, 64, 64, 128)       512       \n",
      "_________________________________________________________________\n",
      "leaky_re_lu_2 (LeakyReLU)    (None, 64, 64, 128)       0         \n",
      "_________________________________________________________________\n",
      "conv2d_40 (Conv2D)           (None, 32, 32, 128)       147584    \n",
      "_________________________________________________________________\n",
      "batch_normalization_35 (Batc (None, 32, 32, 128)       512       \n",
      "_________________________________________________________________\n",
      "leaky_re_lu_3 (LeakyReLU)    (None, 32, 32, 128)       0         \n",
      "_________________________________________________________________\n",
      "conv2d_41 (Conv2D)           (None, 32, 32, 256)       295168    \n",
      "_________________________________________________________________\n",
      "batch_normalization_36 (Batc (None, 32, 32, 256)       1024      \n",
      "_________________________________________________________________\n",
      "leaky_re_lu_4 (LeakyReLU)    (None, 32, 32, 256)       0         \n",
      "_________________________________________________________________\n",
      "conv2d_42 (Conv2D)           (None, 16, 16, 256)       590080    \n",
      "_________________________________________________________________\n",
      "batch_normalization_37 (Batc (None, 16, 16, 256)       1024      \n",
      "_________________________________________________________________\n",
      "leaky_re_lu_5 (LeakyReLU)    (None, 16, 16, 256)       0         \n",
      "_________________________________________________________________\n",
      "conv2d_43 (Conv2D)           (None, 16, 16, 512)       1180160   \n",
      "_________________________________________________________________\n",
      "batch_normalization_38 (Batc (None, 16, 16, 512)       2048      \n",
      "_________________________________________________________________\n",
      "leaky_re_lu_6 (LeakyReLU)    (None, 16, 16, 512)       0         \n",
      "_________________________________________________________________\n",
      "conv2d_44 (Conv2D)           (None, 8, 8, 512)         2359808   \n",
      "_________________________________________________________________\n",
      "batch_normalization_39 (Batc (None, 8, 8, 512)         2048      \n",
      "_________________________________________________________________\n",
      "leaky_re_lu_7 (LeakyReLU)    (None, 8, 8, 512)         0         \n",
      "_________________________________________________________________\n",
      "flatten (Flatten)            (None, 32768)             0         \n",
      "_________________________________________________________________\n",
      "dense (Dense)                (None, 1024)              33555456  \n",
      "_________________________________________________________________\n",
      "leaky_re_lu_8 (LeakyReLU)    (None, 1024)              0         \n",
      "_________________________________________________________________\n",
      "dense_1 (Dense)              (None, 1)                 1025      \n",
      "=================================================================\n",
      "Total params: 38,249,281\n",
      "Trainable params: 38,245,569\n",
      "Non-trainable params: 3,712\n",
      "_________________________________________________________________\n",
      "Model: \"model_2\"\n",
      "_________________________________________________________________\n",
      "Layer (type)                 Output Shape              Param #   \n",
      "=================================================================\n",
      "input_3 (InputLayer)         [(None, 128, 128, 3)]     0         \n",
      "_________________________________________________________________\n",
      "block1_conv1 (Conv2D)        (None, 128, 128, 64)      1792      \n",
      "_________________________________________________________________\n",
      "block1_conv2 (Conv2D)        (None, 128, 128, 64)      36928     \n",
      "_________________________________________________________________\n",
      "block1_pool (MaxPooling2D)   (None, 64, 64, 64)        0         \n",
      "_________________________________________________________________\n",
      "block2_conv1 (Conv2D)        (None, 64, 64, 128)       73856     \n",
      "_________________________________________________________________\n",
      "block2_conv2 (Conv2D)        (None, 64, 64, 128)       147584    \n",
      "_________________________________________________________________\n",
      "block2_pool (MaxPooling2D)   (None, 32, 32, 128)       0         \n",
      "_________________________________________________________________\n",
      "block3_conv1 (Conv2D)        (None, 32, 32, 256)       295168    \n",
      "_________________________________________________________________\n",
      "block3_conv2 (Conv2D)        (None, 32, 32, 256)       590080    \n",
      "_________________________________________________________________\n",
      "block3_conv3 (Conv2D)        (None, 32, 32, 256)       590080    \n",
      "_________________________________________________________________\n",
      "block3_conv4 (Conv2D)        (None, 32, 32, 256)       590080    \n",
      "=================================================================\n",
      "Total params: 2,325,568\n",
      "Trainable params: 2,325,568\n",
      "Non-trainable params: 0\n",
      "_________________________________________________________________\n",
      "None\n"
     ]
    }
   ],
   "source": [
    "lr_images = lr_images / 255.\n",
    "hr_images = hr_images / 255.\n",
    "\n",
    "#Split to train and test\n",
    "lr_train, lr_test, hr_train, hr_test = train_test_split(lr_images, hr_images, \n",
    "                                                      test_size=0.33, random_state=42)\n",
    "\n",
    "\n",
    "\n",
    "hr_shape = (hr_train.shape[1], hr_train.shape[2], hr_train.shape[3])\n",
    "lr_shape = (lr_train.shape[1], lr_train.shape[2], lr_train.shape[3])\n",
    "\n",
    "lr_ip = Input(shape=lr_shape)\n",
    "hr_ip = Input(shape=hr_shape)\n",
    "\n",
    "generator = create_gen(lr_ip, num_res_block = 16)\n",
    "generator.summary()\n",
    "\n",
    "discriminator = create_disc(hr_ip)\n",
    "discriminator.compile(loss=\"binary_crossentropy\", optimizer=\"adam\", metrics=['accuracy'])\n",
    "discriminator.summary()\n",
    "\n",
    "vgg = build_vgg((128,128,3))\n",
    "print(vgg.summary())\n",
    "vgg.trainable = False\n",
    "\n",
    "gan_model = create_comb(generator, discriminator, vgg, lr_ip, hr_ip)"
   ]
  },
  {
   "cell_type": "code",
   "execution_count": 14,
   "id": "810c39cd",
   "metadata": {},
   "outputs": [
    {
     "name": "stdout",
     "output_type": "stream",
     "text": [
      "Model: \"model_3\"\n",
      "__________________________________________________________________________________________________\n",
      "Layer (type)                    Output Shape         Param #     Connected to                     \n",
      "==================================================================================================\n",
      "input_1 (InputLayer)            [(None, 32, 32, 3)]  0                                            \n",
      "__________________________________________________________________________________________________\n",
      "model (Functional)              (None, 128, 128, 3)  2044291     input_1[0][0]                    \n",
      "__________________________________________________________________________________________________\n",
      "input_2 (InputLayer)            [(None, 128, 128, 3) 0                                            \n",
      "__________________________________________________________________________________________________\n",
      "model_1 (Functional)            (None, 1)            38249281    model[0][0]                      \n",
      "__________________________________________________________________________________________________\n",
      "model_2 (Functional)            (None, 32, 32, 256)  2325568     model[0][0]                      \n",
      "==================================================================================================\n",
      "Total params: 42,619,140\n",
      "Trainable params: 2,040,067\n",
      "Non-trainable params: 40,579,073\n",
      "__________________________________________________________________________________________________\n"
     ]
    }
   ],
   "source": [
    "gan_model.compile(loss=[\"binary_crossentropy\", \"mse\"], loss_weights=[1e-3, 1], optimizer=\"adam\")\n",
    "gan_model.summary()"
   ]
  },
  {
   "cell_type": "code",
   "execution_count": 15,
   "id": "5f66d5fd",
   "metadata": {},
   "outputs": [
    {
     "name": "stdout",
     "output_type": "stream",
     "text": [
      "Model: \"model_3\"\n",
      "__________________________________________________________________________________________________\n",
      "Layer (type)                    Output Shape         Param #     Connected to                     \n",
      "==================================================================================================\n",
      "input_1 (InputLayer)            [(None, 32, 32, 3)]  0                                            \n",
      "__________________________________________________________________________________________________\n",
      "model (Functional)              (None, 128, 128, 3)  2044291     input_1[0][0]                    \n",
      "__________________________________________________________________________________________________\n",
      "input_2 (InputLayer)            [(None, 128, 128, 3) 0                                            \n",
      "__________________________________________________________________________________________________\n",
      "model_1 (Functional)            (None, 1)            38249281    model[0][0]                      \n",
      "__________________________________________________________________________________________________\n",
      "model_2 (Functional)            (None, 32, 32, 256)  2325568     model[0][0]                      \n",
      "==================================================================================================\n",
      "Total params: 42,619,140\n",
      "Trainable params: 2,040,067\n",
      "Non-trainable params: 40,579,073\n",
      "__________________________________________________________________________________________________\n"
     ]
    }
   ],
   "source": [
    "gan_model.compile(loss=[\"binary_crossentropy\", \"mse\"], loss_weights=[1e-3, 1], optimizer=\"adam\")\n",
    "gan_model.summary()"
   ]
  },
  {
   "cell_type": "code",
   "execution_count": 43,
   "id": "73af6c17",
   "metadata": {},
   "outputs": [],
   "source": [
    "batch_size = 1  \n",
    "train_lr_batches = []\n",
    "train_hr_batches = []\n",
    "for it in range(int(hr_train.shape[0] / batch_size)):\n",
    "    start_idx = it * batch_size\n",
    "    end_idx = start_idx + batch_size\n",
    "    train_hr_batches.append(hr_train[start_idx:end_idx])\n",
    "    train_lr_batches.append(lr_train[start_idx:end_idx])\n",
    "    \n",
    "    \n",
    "epochs = 15"
   ]
  },
  {
   "cell_type": "code",
   "execution_count": null,
   "id": "f8f6bc22",
   "metadata": {},
   "outputs": [],
   "source": []
  },
  {
   "cell_type": "code",
   "execution_count": 44,
   "id": "b2dbea95",
   "metadata": {},
   "outputs": [
    {
     "data": {
      "text/plain": [
       "[PhysicalDevice(name='/physical_device:GPU:0', device_type='GPU')]"
      ]
     },
     "execution_count": 44,
     "metadata": {},
     "output_type": "execute_result"
    }
   ],
   "source": [
    "tf.config.list_physical_devices('GPU')"
   ]
  },
  {
   "cell_type": "markdown",
   "id": "9918f7d6",
   "metadata": {},
   "source": [
    "Enumerate training over epochs"
   ]
  },
  {
   "cell_type": "code",
   "execution_count": 45,
   "id": "a85b729f",
   "metadata": {},
   "outputs": [
    {
     "name": "stderr",
     "output_type": "stream",
     "text": [
      "100%|██████████| 3350/3350 [11:20<00:00,  4.92it/s]\n"
     ]
    },
    {
     "name": "stdout",
     "output_type": "stream",
     "text": [
      "epoch: 1 g_loss: 43.03008778693071 d_loss: [0.01486518 0.99865672]\n"
     ]
    },
    {
     "name": "stderr",
     "output_type": "stream",
     "text": [
      "100%|██████████| 3350/3350 [11:06<00:00,  5.02it/s]\n"
     ]
    },
    {
     "name": "stdout",
     "output_type": "stream",
     "text": [
      "epoch: 2 g_loss: 41.922558670897985 d_loss: [0.04207596 0.99791045]\n"
     ]
    },
    {
     "name": "stderr",
     "output_type": "stream",
     "text": [
      "100%|██████████| 3350/3350 [10:52<00:00,  5.13it/s]\n"
     ]
    },
    {
     "name": "stdout",
     "output_type": "stream",
     "text": [
      "epoch: 3 g_loss: 45.51129873859349 d_loss: [0.05370661 0.99776119]\n"
     ]
    },
    {
     "name": "stderr",
     "output_type": "stream",
     "text": [
      "100%|██████████| 3350/3350 [10:48<00:00,  5.17it/s]\n"
     ]
    },
    {
     "name": "stdout",
     "output_type": "stream",
     "text": [
      "epoch: 4 g_loss: 40.280411904605465 d_loss: [4.69132688e-06 1.00000000e+00]\n"
     ]
    },
    {
     "name": "stderr",
     "output_type": "stream",
     "text": [
      "100%|██████████| 3350/3350 [10:50<00:00,  5.15it/s]\n"
     ]
    },
    {
     "name": "stdout",
     "output_type": "stream",
     "text": [
      "epoch: 5 g_loss: 42.51859157896754 d_loss: [1.42359387e-08 1.00000000e+00]\n"
     ]
    },
    {
     "name": "stderr",
     "output_type": "stream",
     "text": [
      "100%|██████████| 3350/3350 [10:53<00:00,  5.13it/s]\n"
     ]
    },
    {
     "name": "stdout",
     "output_type": "stream",
     "text": [
      "epoch: 6 g_loss: 38.43425026594703 d_loss: [0.05423972 0.99865672]\n"
     ]
    },
    {
     "name": "stderr",
     "output_type": "stream",
     "text": [
      "100%|██████████| 3350/3350 [10:48<00:00,  5.16it/s]\n"
     ]
    },
    {
     "name": "stdout",
     "output_type": "stream",
     "text": [
      "epoch: 7 g_loss: 37.29411166297856 d_loss: [0.05472143 0.99850746]\n"
     ]
    },
    {
     "name": "stderr",
     "output_type": "stream",
     "text": [
      "100%|██████████| 3350/3350 [10:49<00:00,  5.16it/s]\n"
     ]
    },
    {
     "name": "stdout",
     "output_type": "stream",
     "text": [
      "epoch: 8 g_loss: 43.87344052492683 d_loss: [8.93882837e-07 1.00000000e+00]\n"
     ]
    },
    {
     "name": "stderr",
     "output_type": "stream",
     "text": [
      "100%|██████████| 3350/3350 [10:52<00:00,  5.14it/s]\n"
     ]
    },
    {
     "name": "stdout",
     "output_type": "stream",
     "text": [
      "epoch: 9 g_loss: 37.19995931625366 d_loss: [2.91771276e-08 1.00000000e+00]\n"
     ]
    },
    {
     "name": "stderr",
     "output_type": "stream",
     "text": [
      "100%|██████████| 3350/3350 [10:47<00:00,  5.18it/s]\n"
     ]
    },
    {
     "name": "stdout",
     "output_type": "stream",
     "text": [
      "epoch: 10 g_loss: 36.483061020409885 d_loss: [1.9486784e-09 1.0000000e+00]\n"
     ]
    },
    {
     "name": "stderr",
     "output_type": "stream",
     "text": [
      "100%|██████████| 3350/3350 [10:48<00:00,  5.17it/s]\n"
     ]
    },
    {
     "name": "stdout",
     "output_type": "stream",
     "text": [
      "epoch: 11 g_loss: 34.99321289026915 d_loss: [1.22307107e-10 1.00000000e+00]\n"
     ]
    },
    {
     "name": "stderr",
     "output_type": "stream",
     "text": [
      "100%|██████████| 3350/3350 [10:48<00:00,  5.16it/s]\n"
     ]
    },
    {
     "name": "stdout",
     "output_type": "stream",
     "text": [
      "epoch: 12 g_loss: 34.386478603348806 d_loss: [1.0987327e-11 1.0000000e+00]\n"
     ]
    },
    {
     "name": "stderr",
     "output_type": "stream",
     "text": [
      "100%|██████████| 3350/3350 [10:47<00:00,  5.17it/s]\n"
     ]
    },
    {
     "name": "stdout",
     "output_type": "stream",
     "text": [
      "epoch: 13 g_loss: 33.67748277116178 d_loss: [2.72789881e-12 1.00000000e+00]\n"
     ]
    },
    {
     "name": "stderr",
     "output_type": "stream",
     "text": [
      "100%|██████████| 3350/3350 [10:46<00:00,  5.18it/s]\n"
     ]
    },
    {
     "name": "stdout",
     "output_type": "stream",
     "text": [
      "epoch: 14 g_loss: 34.839019972530764 d_loss: [1.773544e-12 1.000000e+00]\n"
     ]
    },
    {
     "name": "stderr",
     "output_type": "stream",
     "text": [
      "100%|██████████| 3350/3350 [10:47<00:00,  5.17it/s]"
     ]
    },
    {
     "name": "stdout",
     "output_type": "stream",
     "text": [
      "epoch: 15 g_loss: 32.0186360431785 d_loss: [1.41748575e-12 1.00000000e+00]\n",
      "WARNING:tensorflow:Compiled the loaded model, but the compiled metrics have yet to be built. `model.compile_metrics` will be empty until you train or evaluate the model.\n"
     ]
    },
    {
     "name": "stderr",
     "output_type": "stream",
     "text": [
      "\n"
     ]
    }
   ],
   "source": [
    "for e in range(epochs):\n",
    "    \n",
    "    fake_label = np.zeros((batch_size, 1)) # Assign a label of 0 to all fake (generated images)\n",
    "    real_label = np.ones((batch_size,1)) # Assign a label of 1 to all real images.\n",
    "    \n",
    "    #Create empty lists to populate gen and disc losses. \n",
    "    g_losses = []\n",
    "    d_losses = []\n",
    "    \n",
    "    #Enumerate training over batches. \n",
    "    for b in tqdm(range(len(train_hr_batches))):\n",
    "        lr_imgs = train_lr_batches[b] #Fetch a batch of LR images for training\n",
    "        hr_imgs = train_hr_batches[b] #Fetch a batch of HR images for training\n",
    "        \n",
    "        fake_imgs = generator.predict_on_batch(lr_imgs) #Fake images\n",
    "        \n",
    "        #First, train the discriminator on fake and real HR images. \n",
    "        discriminator.trainable = True\n",
    "        d_loss_gen = discriminator.train_on_batch(fake_imgs, fake_label)\n",
    "        d_loss_real = discriminator.train_on_batch(hr_imgs, real_label)\n",
    "        \n",
    "        #Now, train the generator by fixing discriminator as non-trainable\n",
    "        discriminator.trainable = False\n",
    "        \n",
    "        #Average the discriminator loss, just for reporting purposes. \n",
    "        d_loss = 0.5 * np.add(d_loss_gen, d_loss_real) \n",
    "        \n",
    "        #Extract VGG features, to be used towards calculating loss\n",
    "        image_features = vgg.predict(hr_imgs)\n",
    "     \n",
    "        #Train the generator via GAN. \n",
    "        #Remember that we have 2 losses, adversarial loss and content (VGG) loss\n",
    "        g_loss, _, _ = gan_model.train_on_batch([lr_imgs, hr_imgs], [real_label, image_features])\n",
    "        \n",
    "        #Save losses to a list so we can average and report. \n",
    "        d_losses.append(d_loss)\n",
    "        g_losses.append(g_loss)\n",
    "        \n",
    "    #Convert the list of losses to an array to make it easy to average    \n",
    "    g_losses = np.array(g_losses)\n",
    "    d_losses = np.array(d_losses)\n",
    "    \n",
    "    #Calculate the average losses for generator and discriminator\n",
    "    g_loss = np.sum(g_losses, axis=0) / len(g_losses)\n",
    "    d_loss = np.sum(d_losses, axis=0) / len(d_losses)\n",
    "    \n",
    "    #Report the progress during training. \n",
    "    print(\"epoch:\", e+1 ,\"g_loss:\", g_loss, \"d_loss:\", d_loss)\n",
    "\n",
    "    if (e+1) % 15 == 0: #Change the frequency for model saving, if needed\n",
    "        #Save the generator after every n epochs (Usually 10 epochs)\n",
    "        generator.save(\"gen_e_\"+ str(e+1) +\".h5\")"
   ]
  },
  {
   "cell_type": "code",
   "execution_count": 25,
   "id": "ccc76ab8",
   "metadata": {},
   "outputs": [
    {
     "name": "stdout",
     "output_type": "stream",
     "text": [
      "WARNING:tensorflow:Compiled the loaded model, but the compiled metrics have yet to be built. `model.compile_metrics` will be empty until you train or evaluate the model.\n"
     ]
    },
    {
     "name": "stderr",
     "output_type": "stream",
     "text": [
      "C:\\Users\\Vedu\\anaconda3\\envs\\firstenv\\lib\\site-packages\\keras\\utils\\generic_utils.py:494: CustomMaskWarning: Custom mask layers require a config and must override get_config. When loading, the custom mask layer must be passed to the custom_objects argument.\n",
      "  warnings.warn('Custom mask layers require a config and must override '\n"
     ]
    }
   ],
   "source": [
    "    if (e+1) % 15 == 0: #Change the frequency for model saving, if needed\n",
    "        #Save the generator after every n epochs (Usually 10 epochs)\n",
    "        generator.save(\"gen_e_\"+ str(e+1) +\".h5\")"
   ]
  },
  {
   "cell_type": "code",
   "execution_count": 1,
   "id": "a4cac0e4",
   "metadata": {
    "scrolled": true
   },
   "outputs": [
    {
     "ename": "NameError",
     "evalue": "name 'lr_test' is not defined",
     "output_type": "error",
     "traceback": [
      "\u001b[1;31m---------------------------------------------------------------------------\u001b[0m",
      "\u001b[1;31mNameError\u001b[0m                                 Traceback (most recent call last)",
      "Cell \u001b[1;32mIn[1], line 7\u001b[0m\n\u001b[0;32m      2\u001b[0m \u001b[38;5;28;01mfrom\u001b[39;00m \u001b[38;5;21;01mnumpy\u001b[39;00m\u001b[38;5;21;01m.\u001b[39;00m\u001b[38;5;21;01mrandom\u001b[39;00m \u001b[38;5;28;01mimport\u001b[39;00m randint\n\u001b[0;32m      4\u001b[0m generator \u001b[38;5;241m=\u001b[39m load_model(\u001b[38;5;124m'\u001b[39m\u001b[38;5;124mgen_e_5.h5\u001b[39m\u001b[38;5;124m'\u001b[39m, \u001b[38;5;28mcompile\u001b[39m\u001b[38;5;241m=\u001b[39m\u001b[38;5;28;01mFalse\u001b[39;00m)\n\u001b[1;32m----> 7\u001b[0m [X1, X2] \u001b[38;5;241m=\u001b[39m [\u001b[43mlr_test\u001b[49m, hr_test]\n\u001b[0;32m      8\u001b[0m \u001b[38;5;66;03m# select random example\u001b[39;00m\n\u001b[0;32m      9\u001b[0m ix \u001b[38;5;241m=\u001b[39m randint(\u001b[38;5;241m0\u001b[39m, \u001b[38;5;28mlen\u001b[39m(X1), \u001b[38;5;241m1\u001b[39m)\n",
      "\u001b[1;31mNameError\u001b[0m: name 'lr_test' is not defined"
     ]
    }
   ],
   "source": [
    "from keras.models import load_model\n",
    "from numpy.random import randint\n",
    "\n",
    "generator = load_model('gen_e_5.h5', compile=False)\n",
    "\n",
    "\n",
    "[X1, X2] = [lr_test, hr_test]\n",
    "# select random example\n",
    "ix = randint(0, len(X1), 1)\n",
    "src_image, tar_image = X1[ix], X2[ix]\n",
    "\n",
    "# generate image from source\n",
    "gen_image = generator.predict(src_image)\n",
    "\n",
    "\n",
    "# plot all three images\n",
    "\n",
    "plt.figure(figsize=(16, 8))\n",
    "plt.subplot(231)\n",
    "plt.title('LR Image')\n",
    "plt.imshow(src_image[0,:,:,:])\n",
    "plt.subplot(232)\n",
    "plt.title('Superresolution')\n",
    "plt.imshow(gen_image[0,:,:,:])\n",
    "plt.subplot(233)\n",
    "plt.title('Orig. HR image')\n",
    "plt.imshow(tar_image[0,:,:,:])\n",
    "\n",
    "plt.show()\n",
    "\n",
    "\n",
    
   ]
  },
  {
   "cell_type": "code",
   "execution_count": null,
   "id": "0a9ab851",
   "metadata": {},
   "outputs": [],
   "source": []
  },
  {
   "cell_type": "code",
   "execution_count": null,
   "id": "119581df",
   "metadata": {},
   "outputs": [],
   "source": []
  }
 ],
 "metadata": {
  "kernelspec": {
   "display_name": "Python 3 (ipykernel)",
   "language": "python",
   "name": "python3"
  },
  "language_info": {
   "codemirror_mode": {
    "name": "ipython",
    "version": 3
   },
   "file_extension": ".py",
   "mimetype": "text/x-python",
   "name": "python",
   "nbconvert_exporter": "python",
   "pygments_lexer": "ipython3",
   "version": "3.9.16"
  }
 },
 "nbformat": 4,
 "nbformat_minor": 5
}
