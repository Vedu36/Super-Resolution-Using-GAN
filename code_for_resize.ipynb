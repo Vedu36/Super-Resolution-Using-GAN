{
 "cells": [
  {
   "cell_type": "code",
   "execution_count": 5,
   "id": "6400a38c",
   "metadata": {},
   "outputs": [],
   "source": [
    "from PIL import Image\n",
    "import os\n",
    "\n",
    "# set the source and destination directories\n",
    "src_dir= \"C:/Users/Vedu/Desktop/minor/mirflickr\"\n",
    "dst_dir= \"C:/Users/Vedu/Desktop/high\"\n",
    "\n",
    "# loop through each file in the source directory\n",
    "for filename in os.listdir(src_dir):\n",
    "    if filename.endswith(\".jpg\") or filename.endswith(\".png\"):\n",
    "        # open the image file\n",
    "        with Image.open(os.path.join(src_dir, filename)) as img:\n",
    "            # resize the image to 128x128 resolution\n",
    "            img = img.resize((256, 256))\n",
    "            # save the resized image to the destination directory\n",
    "            img.save(os.path.join(dst_dir, filename))\n"
   ]
  },
  {
   "cell_type": "code",
   "execution_count": 6,
   "id": "eb83fd5f",
   "metadata": {},
   "outputs": [],
   "source": [
    "from PIL import Image\n",
    "import os\n",
    "\n",
    "# set the source and destination directories\n",
    "src_dir= \"C:/Users/Vedu/Desktop/minor/mirflickr\"\n",
    "dst_dir= \"C:/Users/Vedu/Desktop/low\"\n",
    "\n",
    "# loop through each file in the source directory\n",
    "for filename in os.listdir(src_dir):\n",
    "    if filename.endswith(\".jpg\") or filename.endswith(\".png\"):\n",
    "        # open the image file\n",
    "        with Image.open(os.path.join(src_dir, filename)) as img:\n",
    "            # resize the image to 128x128 resolution\n",
    "            img = img.resize((56, 56))\n",
    "            # save the resized image to the destination directory\n",
    "            img.save(os.path.join(dst_dir, filename))"
   ]
  },
  {
   "cell_type": "code",
   "execution_count": null,
   "id": "1423b573",
   "metadata": {},
   "outputs": [],
   "source": []
  }
 ],
 "metadata": {
  "kernelspec": {
   "display_name": "Python 3 (ipykernel)",
   "language": "python",
   "name": "python3"
  },
  "language_info": {
   "codemirror_mode": {
    "name": "ipython",
    "version": 3
   },
   "file_extension": ".py",
   "mimetype": "text/x-python",
   "name": "python",
   "nbconvert_exporter": "python",
   "pygments_lexer": "ipython3",
   "version": "3.9.16"
  }
 },
 "nbformat": 4,
 "nbformat_minor": 5
}
